{
 "cells": [
  {
   "cell_type": "code",
   "execution_count": 6,
   "id": "22135213",
   "metadata": {},
   "outputs": [
    {
     "name": "stdout",
     "output_type": "stream",
     "text": [
      "|--- Final_Exam_Score <= 59.50\n",
      "|   |--- class: 0\n",
      "|--- Final_Exam_Score >  59.50\n",
      "|   |--- class: 1\n",
      "\n",
      "\n",
      "Confusion Matrix:\n",
      "[[319   0]\n",
      " [  0 319]]\n",
      "\n",
      "Classification Report:\n",
      "              precision    recall  f1-score   support\n",
      "\n",
      "           0       1.00      1.00      1.00       319\n",
      "           1       1.00      1.00      1.00       319\n",
      "\n",
      "    accuracy                           1.00       638\n",
      "   macro avg       1.00      1.00      1.00       638\n",
      "weighted avg       1.00      1.00      1.00       638\n",
      "\n",
      "Accuracy: 1.0\n"
     ]
    },
    {
     "name": "stderr",
     "output_type": "stream",
     "text": [
      "<>:8: SyntaxWarning: invalid escape sequence '\\s'\n",
      "<>:8: SyntaxWarning: invalid escape sequence '\\s'\n",
      "C:\\Users\\Admin\\AppData\\Local\\Temp\\ipykernel_14288\\3484130832.py:8: SyntaxWarning: invalid escape sequence '\\s'\n",
      "  data = pd.read_csv(\"data\\student_performance_dataset.csv\")\n"
     ]
    }
   ],
   "source": [
    "import pandas as pd\n",
    "from sklearn.preprocessing import LabelEncoder\n",
    "from sklearn.tree import DecisionTreeClassifier, export_text\n",
    "from sklearn.model_selection import train_test_split\n",
    "from sklearn.metrics import classification_report, confusion_matrix, accuracy_score\n",
    "\n",
    "# Load dữ liệu\n",
    "data = pd.read_csv(\"data\\student_performance_dataset.csv\")\n",
    "# Bỏ cột ID\n",
    "data = data.drop(columns=['Student_ID'])\n",
    "\n",
    "# Mã hóa các cột dạng chuỗi\n",
    "label_encoders = {}\n",
    "for column in data.select_dtypes(include='object').columns:\n",
    "    le = LabelEncoder()\n",
    "    data[column] = le.fit_transform(data[column])\n",
    "    label_encoders[column] = le\n",
    "\n",
    "# Tách input và output\n",
    "X = data.drop(columns=['Pass_Fail'])\n",
    "y = data['Pass_Fail']\n",
    "\n",
    "# Tách train/test\n",
    "X_train, X_test, y_train, y_test = train_test_split(X, y, test_size=0.9, random_state=42)\n",
    "\n",
    "# Huấn luyện model\n",
    "clf = DecisionTreeClassifier(criterion=\"entropy\", max_depth=3, random_state=42)\n",
    "clf.fit(X_train, y_train)\n",
    "\n",
    "# Dự đoán\n",
    "y_pred = clf.predict(X_test)\n",
    "\n",
    "# In ra cấu trúc cây\n",
    "tree_rules = export_text(clf, feature_names=list(X.columns))\n",
    "print(tree_rules)\n",
    "\n",
    "# In các chỉ số hiệu suất\n",
    "print(\"\\nConfusion Matrix:\")\n",
    "print(confusion_matrix(y_test, y_pred))\n",
    "\n",
    "print(\"\\nClassification Report:\")\n",
    "print(classification_report(y_test, y_pred))\n",
    "\n",
    "print(\"Accuracy:\", accuracy_score(y_test, y_pred))\n"
   ]
  }
 ],
 "metadata": {
  "kernelspec": {
   "display_name": "Python 3",
   "language": "python",
   "name": "python3"
  },
  "language_info": {
   "codemirror_mode": {
    "name": "ipython",
    "version": 3
   },
   "file_extension": ".py",
   "mimetype": "text/x-python",
   "name": "python",
   "nbconvert_exporter": "python",
   "pygments_lexer": "ipython3",
   "version": "3.12.8"
  }
 },
 "nbformat": 4,
 "nbformat_minor": 5
}
