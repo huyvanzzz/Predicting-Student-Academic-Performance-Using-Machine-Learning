{
 "cells": [
  {
   "cell_type": "code",
   "execution_count": 37,
   "metadata": {},
   "outputs": [],
   "source": [
    "import pandas as pd\n",
    "import numpy as np\n",
    "import seaborn as sns\n",
    "import matplotlib.pyplot as plt\n",
    "import missingno as msno\n",
    "from sklearn.preprocessing import LabelEncoder, StandardScaler\n",
    "from sklearn.model_selection import train_test_split\n",
    "from sklearn.tree import DecisionTreeClassifier\n",
    "from sklearn.metrics import accuracy_score, classification_report\n",
    "from sklearn.model_selection import GridSearchCV\n",
    "import joblib # Để lưu các model/preprocessor"
   ]
  },
  {
   "cell_type": "code",
   "execution_count": 38,
   "metadata": {},
   "outputs": [
    {
     "name": "stdout",
     "output_type": "stream",
     "text": [
      "Kích thước dữ liệu: (31582, 8)\n",
      "   id_student gender         region        entrance_result  \\\n",
      "0       11391      M    Addis Ababa       HE Qualification   \n",
      "1       28400      F    Afar Region       HE Qualification   \n",
      "2       30268      F  Amhara Region  A Level or Equivalent   \n",
      "3       31604      F  Oromia Region  A Level or Equivalent   \n",
      "4       32885      F   South Region     Lower Than A Level   \n",
      "\n",
      "   num_of_prev_attempts  studied_credits disability final_result  \n",
      "0                   0.0            240.0          N         Pass  \n",
      "1                   0.0             60.0          N         Pass  \n",
      "2                   0.0             60.0          Y    Withdrawn  \n",
      "3                   0.0             60.0          N         Pass  \n",
      "4                   0.0             60.0          N         Pass  \n",
      "<class 'pandas.core.frame.DataFrame'>\n",
      "RangeIndex: 31582 entries, 0 to 31581\n",
      "Data columns (total 8 columns):\n",
      " #   Column                Non-Null Count  Dtype  \n",
      "---  ------                --------------  -----  \n",
      " 0   id_student            31582 non-null  int64  \n",
      " 1   gender                31582 non-null  object \n",
      " 2   region                31582 non-null  object \n",
      " 3   entrance_result       31582 non-null  object \n",
      " 4   num_of_prev_attempts  31582 non-null  float64\n",
      " 5   studied_credits       31582 non-null  float64\n",
      " 6   disability            31582 non-null  object \n",
      " 7   final_result          31582 non-null  object \n",
      "dtypes: float64(2), int64(1), object(5)\n",
      "memory usage: 1.9+ MB\n",
      "None\n",
      "          id_student gender        region        entrance_result  \\\n",
      "count   3.158200e+04  31582         31582                  31582   \n",
      "unique           NaN      2            11                      5   \n",
      "top              NaN      M  South Region  A Level or Equivalent   \n",
      "freq             NaN  17038          5503                  13592   \n",
      "mean    7.080545e+05    NaN           NaN                    NaN   \n",
      "std     5.531716e+05    NaN           NaN                    NaN   \n",
      "min     3.733000e+03    NaN           NaN                    NaN   \n",
      "25%     5.063880e+05    NaN           NaN                    NaN   \n",
      "50%     5.892615e+05    NaN           NaN                    NaN   \n",
      "75%     6.437580e+05    NaN           NaN                    NaN   \n",
      "max     2.716795e+06    NaN           NaN                    NaN   \n",
      "\n",
      "        num_of_prev_attempts  studied_credits disability final_result  \n",
      "count           31582.000000     31582.000000      31582        31582  \n",
      "unique                   NaN              NaN          2            4  \n",
      "top                      NaN              NaN          N         Pass  \n",
      "freq                     NaN              NaN      28498        12014  \n",
      "mean                0.168165        79.385726        NaN          NaN  \n",
      "std                 0.486214        41.027243        NaN          NaN  \n",
      "min                 0.000000        30.000000        NaN          NaN  \n",
      "25%                 0.000000        60.000000        NaN          NaN  \n",
      "50%                 0.000000        60.000000        NaN          NaN  \n",
      "75%                 0.000000       120.000000        NaN          NaN  \n",
      "max                 6.000000       655.000000        NaN          NaN  \n"
     ]
    },
    {
     "name": "stderr",
     "output_type": "stream",
     "text": [
      "<>:2: SyntaxWarning: invalid escape sequence '\\d'\n",
      "<>:2: SyntaxWarning: invalid escape sequence '\\d'\n",
      "C:\\Users\\Admin\\AppData\\Local\\Temp\\ipykernel_14132\\3453756072.py:2: SyntaxWarning: invalid escape sequence '\\d'\n",
      "  df = pd.read_csv(\"data\\data_students.csv\")  # Đổi tên nếu file khác\n"
     ]
    },
    {
     "data": {
      "text/plain": [
       "array(['Pass', 'Withdrawn', 'Fail', 'Distinction'], dtype=object)"
      ]
     },
     "execution_count": 38,
     "metadata": {},
     "output_type": "execute_result"
    }
   ],
   "source": [
    "# --- Đọc dữ liệu từ file Excel (hoặc CSV) ---\n",
    "df = pd.read_csv(\"data\\data_students.csv\")  # Đổi tên nếu file khác\n",
    "# --- 1. Khám phá dữ liệu cơ bản ---\n",
    "print(\"Kích thước dữ liệu:\", df.shape)\n",
    "print(df.head())\n",
    "print(df.info())\n",
    "print(df.describe(include='all'))\n",
    "df['final_result'].unique()"
   ]
  },
  {
   "cell_type": "code",
   "execution_count": 39,
   "metadata": {},
   "outputs": [
    {
     "name": "stdout",
     "output_type": "stream",
     "text": [
      "Số lượng giá trị thiếu:\n",
      "id_student              0\n",
      "gender                  0\n",
      "region                  0\n",
      "entrance_result         0\n",
      "num_of_prev_attempts    0\n",
      "studied_credits         0\n",
      "disability              0\n",
      "final_result            0\n",
      "dtype: int64\n"
     ]
    }
   ],
   "source": [
    "# --- 2. Kiểm tra dữ liệu thiếu (Missing values) ---\n",
    "print(\"Số lượng giá trị thiếu:\")\n",
    "print(df.isnull().sum())"
   ]
  },
  {
   "cell_type": "code",
   "execution_count": 40,
   "metadata": {},
   "outputs": [
    {
     "name": "stdout",
     "output_type": "stream",
     "text": [
      "\n",
      "Số dòng trùng: 0\n"
     ]
    }
   ],
   "source": [
    "# --- 3. Kiểm tra dữ liệu trùng ---\n",
    "print(\"\\nSố dòng trùng:\", df.duplicated().sum())\n",
    "df.drop_duplicates(inplace=True)"
   ]
  },
  {
   "cell_type": "code",
   "execution_count": 41,
   "metadata": {},
   "outputs": [],
   "source": [
    "# --- 4. Chuẩn hoá dữ liệu phân loại (loại bỏ khoảng trắng, viết hoa đồng nhất) ---\n",
    "cat_cols = ['gender', 'region', 'entrance_result', 'disability', 'final_result']\n",
    "for col in cat_cols:\n",
    "    df[col] = df[col].astype(str).str.upper().str.strip()"
   ]
  },
  {
   "cell_type": "code",
   "execution_count": 42,
   "metadata": {},
   "outputs": [
    {
     "name": "stderr",
     "output_type": "stream",
     "text": [
      "C:\\Users\\Admin\\AppData\\Local\\Temp\\ipykernel_14132\\3306537937.py:7: FutureWarning: A value is trying to be set on a copy of a DataFrame or Series through chained assignment using an inplace method.\n",
      "The behavior will change in pandas 3.0. This inplace method will never work because the intermediate object on which we are setting values always behaves as a copy.\n",
      "\n",
      "For example, when doing 'df[col].method(value, inplace=True)', try using 'df.method({col: value}, inplace=True)' or df[col] = df[col].method(value) instead, to perform the operation inplace on the original object.\n",
      "\n",
      "\n",
      "  df['studied_credits'].fillna(df['studied_credits'].mean(), inplace=True)\n",
      "C:\\Users\\Admin\\AppData\\Local\\Temp\\ipykernel_14132\\3306537937.py:8: FutureWarning: A value is trying to be set on a copy of a DataFrame or Series through chained assignment using an inplace method.\n",
      "The behavior will change in pandas 3.0. This inplace method will never work because the intermediate object on which we are setting values always behaves as a copy.\n",
      "\n",
      "For example, when doing 'df[col].method(value, inplace=True)', try using 'df.method({col: value}, inplace=True)' or df[col] = df[col].method(value) instead, to perform the operation inplace on the original object.\n",
      "\n",
      "\n",
      "  df['num_of_prev_attempts'].fillna(df['num_of_prev_attempts'].mean(), inplace=True)\n"
     ]
    },
    {
     "data": {
      "image/png": "[encoded data removed]",
      "text/plain": [
       "<Figure size 640x480 with 1 Axes>"
      ]
     },
     "metadata": {},
     "output_type": "display_data"
    },
    {
     "name": "stdout",
     "output_type": "stream",
     "text": [
      "\n",
      "✅ Tiền xử lý hoàn tất! Dữ liệu đã lưu vào 'cleaned_students_data.csv'\n"
     ]
    }
   ],
   "source": [
    "# --- 5. Chuyển kiểu dữ liệu phù hợp ---\n",
    "df['studied_credits'] = pd.to_numeric(df['studied_credits'], errors='coerce')\n",
    "df['num_of_prev_attempts'] = pd.to_numeric(df['num_of_prev_attempts'], errors='coerce')\n",
    "\n",
    "# --- 6. Xử lý giá trị thiếu ---\n",
    "# Với số: thay bằng trung bình\n",
    "df['studied_credits'].fillna(df['studied_credits'].mean(), inplace=True)\n",
    "df['num_of_prev_attempts'].fillna(df['num_of_prev_attempts'].mean(), inplace=True)\n",
    "\n",
    "# Với chuỗi: thay bằng \"UNKNOWN\" nếu cần (ở đây tạm bỏ qua vì đã ép kiểu string ở bước 4)\n",
    "\n",
    "# --- 7. Kiểm tra outliers bằng boxplot ---\n",
    "sns.boxplot(x=df['studied_credits'])\n",
    "plt.title(\"Kiểm tra outliers - studied_credits\")\n",
    "plt.show()\n",
    "\n",
    "# --- 8. Mã hoá các biến phân loại bằng LabelEncoder ---\n",
    "encoders = {}\n",
    "for col in cat_cols:\n",
    "    le = LabelEncoder()\n",
    "    df[col] = le.fit_transform(df[col])\n",
    "    encoders[col] = le  # Lưu encoder để giải mã ngược khi cần\n",
    "\n",
    "# --- 9. Chuẩn hoá dữ liệu số bằng StandardScaler ---\n",
    "scaler = StandardScaler()\n",
    "num_cols = ['studied_credits', 'num_of_prev_attempts']\n",
    "df[num_cols] = scaler.fit_transform(df[num_cols])\n",
    "\n",
    "# --- 10. Tách dữ liệu train/test (nếu bạn dùng học máy) ---\n",
    "# Xác định X và y\n",
    "X = df.drop(columns=['id_student', 'final_result'])  # X không chứa id hay label\n",
    "y = df['final_result'].values.reshape(-1,1)  # y là biến mục tiêu\n",
    "# --- 11. Lưu dữ liệu đã xử lý & các đối tượng dùng lại ---\n",
    "df.to_csv(\"cleaned_students_data.csv\", index=False)\n",
    "joblib.dump(encoders, 'label_encoders.pkl')\n",
    "joblib.dump(scaler, 'scaler.pkl')\n",
    "print(\"\\n✅ Tiền xử lý hoàn tất! Dữ liệu đã lưu vào 'cleaned_students_data.csv'\")\n"
   ]
  },
  {
   "cell_type": "code",
   "execution_count": 43,
   "metadata": {},
   "outputs": [
    {
     "name": "stdout",
     "output_type": "stream",
     "text": [
      "final_result\n",
      "2    0.380407\n",
      "3    0.308372\n",
      "1    0.218542\n",
      "0    0.092679\n",
      "Name: proportion, dtype: float64\n",
      "final_result\n",
      "2    12014\n",
      "3     9739\n",
      "1     6902\n",
      "0     2927\n",
      "Name: count, dtype: int64\n"
     ]
    }
   ],
   "source": [
    "print(df['final_result'].value_counts(normalize=True))\n",
    "print(df['final_result'].value_counts())\n"
   ]
  },
  {
   "cell_type": "markdown",
   "metadata": {},
   "source": [
    "# Huấn luyện mô hình cây DT"
   ]
  },
  {
   "cell_type": "code",
   "execution_count": 44,
   "metadata": {},
   "outputs": [
    {
     "name": "stdout",
     "output_type": "stream",
     "text": [
      "DecisionTreeClassifier()\n"
     ]
    }
   ],
   "source": [
    "from sklearn.metrics import confusion_matrix\n",
    "X_train, X_test, y_train, y_test = train_test_split(X, y, test_size=0.2, random_state=20)\n",
    "\n",
    "# Khởi tạo mô hình\n",
    "model = DecisionTreeClassifier()\n",
    "# Huấn luyện\n",
    "model.fit(X_train, y_train)\n",
    "print(model)"
   ]
  },
  {
   "cell_type": "code",
   "execution_count": 45,
   "metadata": {},
   "outputs": [
    {
     "name": "stdout",
     "output_type": "stream",
     "text": [
      "Accuracy: 0.39939844863067914\n",
      "              precision    recall  f1-score   support\n",
      "\n",
      "           0       0.09      0.02      0.03       571\n",
      "           1       0.32      0.15      0.20      1383\n",
      "           2       0.42      0.69      0.52      2395\n",
      "           3       0.41      0.34      0.37      1968\n",
      "\n",
      "    accuracy                           0.40      6317\n",
      "   macro avg       0.31      0.30      0.28      6317\n",
      "weighted avg       0.36      0.40      0.36      6317\n",
      "\n",
      "[[   9   36  424  102]\n",
      " [  24  204  796  359]\n",
      " [  37  224 1648  486]\n",
      " [  32  182 1092  662]]\n"
     ]
    }
   ],
   "source": [
    "# Dự đoán và đánh giá\n",
    "y_pred = model.predict(X_test)\n",
    "print(\"Accuracy:\", accuracy_score(y_test, y_pred))\n",
    "print(classification_report(y_test, y_pred))\n",
    "cm = confusion_matrix(y_test,y_pred)\n",
    "print(cm)"
   ]
  },
  {
   "cell_type": "code",
   "execution_count": null,
   "metadata": {},
   "outputs": [
    {
     "name": "stdout",
     "output_type": "stream",
     "text": [
      "Best params: {'max_depth': 7, 'min_samples_split': 2}\n",
      "Accuracy: 0.41095456704131705\n",
      "              precision    recall  f1-score   support\n",
      "\n",
      "           0       0.20      0.00      0.00       571\n",
      "           1       0.34      0.09      0.15      1383\n",
      "           2       0.41      0.79      0.54      2395\n",
      "           3       0.45      0.29      0.35      1968\n",
      "\n",
      "    accuracy                           0.41      6317\n",
      "   macro avg       0.35      0.29      0.26      6317\n",
      "weighted avg       0.39      0.41      0.35      6317\n",
      "\n"
     ]
    }
   ],
   "source": [
    "from sklearn.model_selection import GridSearchCV\n",
    "from sklearn.metrics import classification_report, accuracy_score\n",
    "params = {\n",
    "    'max_depth': [7],\n",
    "    'min_samples_split': [2],\n",
    "}\n",
    "\n",
    "grid = GridSearchCV(DecisionTreeClassifier(), params, cv=5)\n",
    "grid.fit(X_train, y_train)\n",
    "\n",
    "print(\"Best params:\", grid.best_params_)\n",
    "best_model = grid.best_estimator_\n",
    "\n",
    "\n",
    "y_pred = best_model.predict(X_test)\n",
    "\n",
    "print(\"Accuracy:\", accuracy_score(y_test, y_pred))\n",
    "print(classification_report(y_test, y_pred))\n",
    "\n"
   ]
  }
 ],
 "metadata": {
  "kernelspec": {
   "display_name": "Python 3",
   "language": "python",
   "name": "python3"
  },
  "language_info": {
   "codemirror_mode": {
    "name": "ipython",
    "version": 3
   },
   "file_extension": ".py",
   "mimetype": "text/x-python",
   "name": "python",
   "nbconvert_exporter": "python",
   "pygments_lexer": "ipython3",
   "version": "3.12.8"
  }
 },
 "nbformat": 4,
 "nbformat_minor": 2
}
